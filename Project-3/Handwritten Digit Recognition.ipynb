{
  "nbformat": 4,
  "nbformat_minor": 0,
  "metadata": {
    "colab": {
      "provenance": []
    },
    "kernelspec": {
      "name": "python3",
      "display_name": "Python 3"
    },
    "language_info": {
      "name": "python"
    }
  },
  "cells": [
    {
      "cell_type": "code",
      "execution_count": 1,
      "metadata": {
        "colab": {
          "base_uri": "https://localhost:8080/"
        },
        "id": "oe5C8p6wqkma",
        "outputId": "c8b8caab-caa4-449e-f8ab-3df18d7d5eb9"
      },
      "outputs": [
        {
          "output_type": "stream",
          "name": "stdout",
          "text": [
            "Requirement already satisfied: torch in /usr/local/lib/python3.12/dist-packages (2.8.0+cu126)\n",
            "Requirement already satisfied: torchvision in /usr/local/lib/python3.12/dist-packages (0.23.0+cu126)\n",
            "Requirement already satisfied: filelock in /usr/local/lib/python3.12/dist-packages (from torch) (3.19.1)\n",
            "Requirement already satisfied: typing-extensions>=4.10.0 in /usr/local/lib/python3.12/dist-packages (from torch) (4.14.1)\n",
            "Requirement already satisfied: setuptools in /usr/local/lib/python3.12/dist-packages (from torch) (75.2.0)\n",
            "Requirement already satisfied: sympy>=1.13.3 in /usr/local/lib/python3.12/dist-packages (from torch) (1.13.3)\n",
            "Requirement already satisfied: networkx in /usr/local/lib/python3.12/dist-packages (from torch) (3.5)\n",
            "Requirement already satisfied: jinja2 in /usr/local/lib/python3.12/dist-packages (from torch) (3.1.6)\n",
            "Requirement already satisfied: fsspec in /usr/local/lib/python3.12/dist-packages (from torch) (2025.3.0)\n",
            "Requirement already satisfied: nvidia-cuda-nvrtc-cu12==12.6.77 in /usr/local/lib/python3.12/dist-packages (from torch) (12.6.77)\n",
            "Requirement already satisfied: nvidia-cuda-runtime-cu12==12.6.77 in /usr/local/lib/python3.12/dist-packages (from torch) (12.6.77)\n",
            "Requirement already satisfied: nvidia-cuda-cupti-cu12==12.6.80 in /usr/local/lib/python3.12/dist-packages (from torch) (12.6.80)\n",
            "Requirement already satisfied: nvidia-cudnn-cu12==9.10.2.21 in /usr/local/lib/python3.12/dist-packages (from torch) (9.10.2.21)\n",
            "Requirement already satisfied: nvidia-cublas-cu12==12.6.4.1 in /usr/local/lib/python3.12/dist-packages (from torch) (12.6.4.1)\n",
            "Requirement already satisfied: nvidia-cufft-cu12==11.3.0.4 in /usr/local/lib/python3.12/dist-packages (from torch) (11.3.0.4)\n",
            "Requirement already satisfied: nvidia-curand-cu12==10.3.7.77 in /usr/local/lib/python3.12/dist-packages (from torch) (10.3.7.77)\n",
            "Requirement already satisfied: nvidia-cusolver-cu12==11.7.1.2 in /usr/local/lib/python3.12/dist-packages (from torch) (11.7.1.2)\n",
            "Requirement already satisfied: nvidia-cusparse-cu12==12.5.4.2 in /usr/local/lib/python3.12/dist-packages (from torch) (12.5.4.2)\n",
            "Requirement already satisfied: nvidia-cusparselt-cu12==0.7.1 in /usr/local/lib/python3.12/dist-packages (from torch) (0.7.1)\n",
            "Requirement already satisfied: nvidia-nccl-cu12==2.27.3 in /usr/local/lib/python3.12/dist-packages (from torch) (2.27.3)\n",
            "Requirement already satisfied: nvidia-nvtx-cu12==12.6.77 in /usr/local/lib/python3.12/dist-packages (from torch) (12.6.77)\n",
            "Requirement already satisfied: nvidia-nvjitlink-cu12==12.6.85 in /usr/local/lib/python3.12/dist-packages (from torch) (12.6.85)\n",
            "Requirement already satisfied: nvidia-cufile-cu12==1.11.1.6 in /usr/local/lib/python3.12/dist-packages (from torch) (1.11.1.6)\n",
            "Requirement already satisfied: triton==3.4.0 in /usr/local/lib/python3.12/dist-packages (from torch) (3.4.0)\n",
            "Requirement already satisfied: numpy in /usr/local/lib/python3.12/dist-packages (from torchvision) (2.0.2)\n",
            "Requirement already satisfied: pillow!=8.3.*,>=5.3.0 in /usr/local/lib/python3.12/dist-packages (from torchvision) (11.3.0)\n",
            "Requirement already satisfied: mpmath<1.4,>=1.1.0 in /usr/local/lib/python3.12/dist-packages (from sympy>=1.13.3->torch) (1.3.0)\n",
            "Requirement already satisfied: MarkupSafe>=2.0 in /usr/local/lib/python3.12/dist-packages (from jinja2->torch) (3.0.2)\n"
          ]
        }
      ],
      "source": [
        "!pip install torch torchvision\n"
      ]
    },
    {
      "cell_type": "code",
      "source": [
        "import torch\n",
        "from torch import nn\n",
        "from torch.utils.data import DataLoader\n",
        "from torchvision import datasets\n",
        "from torchvision import transforms\n",
        "from torchvision.transforms import ToTensor\n",
        "import numpy as np\n",
        "\n",
        "\n",
        "from PIL import Image, ImageOps\n",
        "import matplotlib.pyplot as plt"
      ],
      "metadata": {
        "id": "VqN6NrScrZy2"
      },
      "execution_count": 52,
      "outputs": []
    },
    {
      "cell_type": "code",
      "source": [
        "#Training Data from MNIST Dataset\n",
        "training_data = datasets.MNIST(root = 'Data', train = 'True', download = 'True', transform = ToTensor(),)\n",
        "#Test Data from MNIST\n",
        "test_data = datasets.MNIST(root = 'Data', train = 'False', download = 'True', transform = ToTensor(),)\n",
        "\n",
        "batch_size = 64\n",
        "\n",
        "#dataloaders for iterate over data\n",
        "training_dataloader = DataLoader(training_data,batch_size=batch_size)\n",
        "test_dataloader = DataLoader(test_data,batch_size = batch_size)\n",
        "\n",
        "Training_Data_Size = len(training_data)*batch_size\n",
        "Test_Data_Size = len(test_data)*batch_size\n",
        "\n",
        "print(Training_Data_Size)\n",
        "print(Test_Data_Size)\n",
        "\n",
        "for X,y in test_dataloader:\n",
        "  print(f'Shape of X[N,C,H,W] : {X.shape}')\n",
        "  print(f'Shape of y: {y.shape} {y.dtype}')\n",
        "  break"
      ],
      "metadata": {
        "colab": {
          "base_uri": "https://localhost:8080/"
        },
        "id": "CrtIwEV-tlaF",
        "outputId": "0cb8f74a-9023-4c6d-ee54-8a69d675c8e5"
      },
      "execution_count": 36,
      "outputs": [
        {
          "output_type": "stream",
          "name": "stdout",
          "text": [
            "3840000\n",
            "3840000\n",
            "Shape of X[N,C,H,W] : torch.Size([64, 1, 28, 28])\n",
            "Shape of y: torch.Size([64]) torch.int64\n"
          ]
        }
      ]
    },
    {
      "cell_type": "code",
      "source": [
        "# device for training.\n",
        "device = torch.device(\n",
        "    \"cuda\" if torch.cuda.is_available()\n",
        "    else \"cpu\"\n",
        ")\n",
        "print(f\"Using {device} device\")\n",
        "\n",
        "# model\n",
        "class NeuralNetwork(nn.Module):\n",
        "    def __init__(self, input_size, hidden_size, num_classes):\n",
        "        super().__init__()\n",
        "        self.flatten = nn.Flatten()\n",
        "        self.linear_relu_stack = nn.Sequential(\n",
        "            nn.Linear(input_size, hidden_size),\n",
        "            nn.ReLU(),\n",
        "            nn.Linear(hidden_size, hidden_size),\n",
        "            nn.ReLU(),\n",
        "            nn.Linear(hidden_size, num_classes)\n",
        "        )\n",
        "\n",
        "    def forward(self, image_tensor):\n",
        "        image_tensor = self.flatten(image_tensor)\n",
        "        logits = self.linear_relu_stack(image_tensor)\n",
        "        return logits\n",
        "\n",
        "\n",
        "input_size = 28*28\n",
        "hidden_size = 512\n",
        "num_classes = 10\n",
        "\n",
        "model = NeuralNetwork(input_size, hidden_size, num_classes).to(device)\n",
        "print(model)"
      ],
      "metadata": {
        "colab": {
          "base_uri": "https://localhost:8080/"
        },
        "id": "PlvJw6pDIUAz",
        "outputId": "c4b3db9f-e4fa-4b9e-9f5d-01b5d7b7c706"
      },
      "execution_count": 37,
      "outputs": [
        {
          "output_type": "stream",
          "name": "stdout",
          "text": [
            "Using cpu device\n",
            "NeuralNetwork(\n",
            "  (flatten): Flatten(start_dim=1, end_dim=-1)\n",
            "  (linear_relu_stack): Sequential(\n",
            "    (0): Linear(in_features=784, out_features=512, bias=True)\n",
            "    (1): ReLU()\n",
            "    (2): Linear(in_features=512, out_features=512, bias=True)\n",
            "    (3): ReLU()\n",
            "    (4): Linear(in_features=512, out_features=10, bias=True)\n",
            "  )\n",
            ")\n"
          ]
        }
      ]
    },
    {
      "cell_type": "code",
      "source": [
        "# input image transformation\n",
        "transform = transforms.Compose([\n",
        "    transforms.ToTensor()\n",
        "])\n"
      ],
      "metadata": {
        "id": "Ylfl0C14QKhP"
      },
      "execution_count": 64,
      "outputs": []
    },
    {
      "cell_type": "code",
      "source": [
        "# learning rate, loss function and optimizer\n",
        "learning_rate = 1e-3 # 0.001\n",
        "loss_fn = nn.CrossEntropyLoss()\n",
        "optimizer = torch.optim.Adam(model.parameters(), lr=learning_rate)\n",
        "\n",
        "# training function\n",
        "def train(dataloader, model, loss_fn, optimizer):\n",
        "    size = len(dataloader.dataset)\n",
        "    model.train()\n",
        "\n",
        "    for batch_num, (X, y) in enumerate(dataloader):\n",
        "        X, y = X.to(device), y.to(device)\n",
        "\n",
        "        # Forward pass to compute prediction\n",
        "        pred = model(X)\n",
        "        # Compute prediction error using loss function\n",
        "        loss = loss_fn(pred, y)\n",
        "\n",
        "        # Backward pass\n",
        "        optimizer.zero_grad() # zero any previous gradient calculations\n",
        "        loss.backward() # calculate gradient\n",
        "        optimizer.step() # update model parameters\n",
        "\n",
        "        if batch_num > 0 and batch_num % 100 == 0:\n",
        "            loss, current = loss.item(), batch_num * len(X)\n",
        "            print(f\"loss: {loss:>7f}  [{current:>5d}/{size:>5d}]\")"
      ],
      "metadata": {
        "id": "U-0IYGFODq8d"
      },
      "execution_count": 45,
      "outputs": []
    },
    {
      "cell_type": "code",
      "source": [
        "# test function\n",
        "def test(dataloader, model, loss_fn):\n",
        "    size = len(dataloader.dataset)\n",
        "    num_batches = len(dataloader)\n",
        "    model.eval()\n",
        "    test_loss, correct = 0, 0\n",
        "    for X, y in dataloader:\n",
        "        X, y = X.to(device), y.to(device)\n",
        "        pred = model(X)\n",
        "        test_loss += loss_fn(pred, y).item()\n",
        "        correct += (pred.argmax(1) == y).type(torch.float).sum().item()\n",
        "    test_loss /= num_batches\n",
        "    correct /= size\n",
        "    print(f\"Test Error: \\n Accuracy: {(100*correct):>0.1f}%, Avg loss: {test_loss:>8f} \\n\")"
      ],
      "metadata": {
        "id": "VAVlbnvSEJcW"
      },
      "execution_count": 46,
      "outputs": []
    },
    {
      "cell_type": "code",
      "source": [
        "# model training\n",
        "epochs = 5\n",
        "for t in range(epochs):\n",
        "    print(f\"Epoch {t+1}\\n-------------------------------\")\n",
        "    train(training_dataloader, model, loss_fn, optimizer)\n",
        "    test(test_dataloader, model, loss_fn)\n",
        "print(\"Done!\")"
      ],
      "metadata": {
        "colab": {
          "base_uri": "https://localhost:8080/"
        },
        "id": "170JVup-EWSj",
        "outputId": "d17c6ad9-0848-4ea5-fdce-aa3de0fda2f1"
      },
      "execution_count": 47,
      "outputs": [
        {
          "output_type": "stream",
          "name": "stdout",
          "text": [
            "Epoch 1\n",
            "-------------------------------\n",
            "loss: 0.006352  [ 6400/60000]\n",
            "loss: 0.116988  [12800/60000]\n",
            "loss: 0.031606  [19200/60000]\n",
            "loss: 0.014702  [25600/60000]\n",
            "loss: 0.002831  [32000/60000]\n",
            "loss: 0.003434  [38400/60000]\n",
            "loss: 0.008678  [44800/60000]\n",
            "loss: 0.149814  [51200/60000]\n",
            "loss: 0.013363  [57600/60000]\n",
            "Test Error: \n",
            " Accuracy: 98.4%, Avg loss: 0.058403 \n",
            "\n",
            "Epoch 2\n",
            "-------------------------------\n",
            "loss: 0.000530  [ 6400/60000]\n",
            "loss: 0.080303  [12800/60000]\n",
            "loss: 0.011836  [19200/60000]\n",
            "loss: 0.104227  [25600/60000]\n",
            "loss: 0.009682  [32000/60000]\n",
            "loss: 0.000885  [38400/60000]\n",
            "loss: 0.014653  [44800/60000]\n",
            "loss: 0.040300  [51200/60000]\n",
            "loss: 0.053836  [57600/60000]\n",
            "Test Error: \n",
            " Accuracy: 99.1%, Avg loss: 0.026638 \n",
            "\n",
            "Epoch 3\n",
            "-------------------------------\n",
            "loss: 0.045166  [ 6400/60000]\n",
            "loss: 0.003195  [12800/60000]\n",
            "loss: 0.000566  [19200/60000]\n",
            "loss: 0.002927  [25600/60000]\n",
            "loss: 0.014013  [32000/60000]\n",
            "loss: 0.055688  [38400/60000]\n",
            "loss: 0.002679  [44800/60000]\n",
            "loss: 0.003461  [51200/60000]\n",
            "loss: 0.001838  [57600/60000]\n",
            "Test Error: \n",
            " Accuracy: 99.3%, Avg loss: 0.022482 \n",
            "\n",
            "Epoch 4\n",
            "-------------------------------\n",
            "loss: 0.069512  [ 6400/60000]\n",
            "loss: 0.011647  [12800/60000]\n",
            "loss: 0.005519  [19200/60000]\n",
            "loss: 0.014614  [25600/60000]\n",
            "loss: 0.005962  [32000/60000]\n",
            "loss: 0.000255  [38400/60000]\n",
            "loss: 0.002020  [44800/60000]\n",
            "loss: 0.027711  [51200/60000]\n",
            "loss: 0.011917  [57600/60000]\n",
            "Test Error: \n",
            " Accuracy: 99.3%, Avg loss: 0.023319 \n",
            "\n",
            "Epoch 5\n",
            "-------------------------------\n",
            "loss: 0.010688  [ 6400/60000]\n",
            "loss: 0.027437  [12800/60000]\n",
            "loss: 0.032287  [19200/60000]\n",
            "loss: 0.001883  [25600/60000]\n",
            "loss: 0.002282  [32000/60000]\n",
            "loss: 0.101717  [38400/60000]\n",
            "loss: 0.022732  [44800/60000]\n",
            "loss: 0.107812  [51200/60000]\n",
            "loss: 0.000305  [57600/60000]\n",
            "Test Error: \n",
            " Accuracy: 99.5%, Avg loss: 0.014773 \n",
            "\n",
            "Done!\n"
          ]
        }
      ]
    },
    {
      "cell_type": "code",
      "source": [
        "# saving model parameters\n",
        "torch.save(model.state_dict(), \"ml_with_pytorch_model.pth\")\n",
        "print(\"Saved PyTorch Model State to ml_with_pytorch_model.pth\")\n",
        "\n",
        "# Loading the saved model parameters into a new instance of the model\n",
        "model = NeuralNetwork(input_size, hidden_size, num_classes).to(device)\n",
        "model.load_state_dict(torch.load(\"ml_with_pytorch_model.pth\"))\n",
        "\n",
        "image_data = [\n",
        "    (\"d1.png\", 9),\n",
        "    (\"d2.png\", 4),\n",
        "    (\"d3.png\", 2),\n",
        "    (\"d4.png\", 6),\n",
        "    (\"d5.png\", 0),\n",
        "    (\"d6.png\", 3)\n",
        "]\n",
        "\n",
        "model.eval()\n",
        "plt.figure(figsize=(12, 6))\n",
        "\n",
        "#Infernce using new model instance\n",
        "for i in range(len(image_data)):\n",
        "    path, actual = image_data[i]\n",
        "    img = Image.open(path)\n",
        "    x = transform(img).unsqueeze(0).to(device)\n",
        "\n",
        "    with torch.no_grad():\n",
        "        output = model(x)\n",
        "        pred = output.argmax(1).item()\n",
        "\n",
        "    plt.subplot(2, 3, i + 1)\n",
        "    plt.imshow(img, cmap=\"gray\")\n",
        "    plt.title(f\"Actual: {actual}, Pred: {pred}\")\n",
        "    plt.axis(\"off\")\n",
        "\n",
        "plt.tight_layout()\n",
        "plt.show()\n"
      ],
      "metadata": {
        "colab": {
          "base_uri": "https://localhost:8080/",
          "height": 507
        },
        "id": "H0yFyrqRJdNu",
        "outputId": "add82109-0d84-4798-b2eb-d2f5553bcb18"
      },
      "execution_count": 63,
      "outputs": [
        {
          "output_type": "stream",
          "name": "stdout",
          "text": [
            "Saved PyTorch Model State to ml_with_pytorch_model.pth\n"
          ]
        },
        {
          "output_type": "display_data",
          "data": {
            "text/plain": [
              "<Figure size 1200x600 with 6 Axes>"
            ],
            "image/png": "[encoded data removed]"
          },
          "metadata": {}
        }
      ]
    }
  ]
}